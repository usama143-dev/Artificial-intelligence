{
 "cells": [
  {
   "cell_type": "code",
   "execution_count": 4,
   "metadata": {},
   "outputs": [
    {
     "name": "stdout",
     "output_type": "stream",
     "text": [
      "Area of Circle:  1962.5\n",
      "Perimeter of circle :  157.0\n"
     ]
    }
   ],
   "source": [
    "class Circle():\n",
    "    \n",
    "    def __init__(self,r):\n",
    "        self.radius = r\n",
    "    \n",
    "    \n",
    "    def calculateArea(self):\n",
    "        area = 3.14*(self.radius**2)\n",
    "        print(\"Area of Circle: \",area)\n",
    "    \n",
    "    \n",
    "    def calculatePerimeter(self):\n",
    "        perimeter = 2*3.14*self.radius\n",
    "        print(\"Perimeter of circle : \",perimeter)\n",
    "    \n",
    "    \n",
    "\n",
    "\n",
    "c = Circle(25)\n",
    "c.calculateArea()\n",
    "c.calculatePerimeter()\n",
    "\n"
   ]
  },
  {
   "cell_type": "code",
   "execution_count": 7,
   "metadata": {},
   "outputs": [
    {
     "name": "stdout",
     "output_type": "stream",
     "text": [
      "Enter a string: Usama Amin\n",
      "Usama Amin\n"
     ]
    }
   ],
   "source": [
    "class MyStrings():\n",
    "    \n",
    "    def get_String(self):\n",
    "        myStr = str(input(\"Enter a string: \"))\n",
    "        self.userString = myStr\n",
    "        \n",
    "    def print_String(self):\n",
    "        print(self.userString)\n",
    "\n",
    "obj = MyStrings()\n",
    "obj.get_String()\n",
    "obj.print_String()\n"
   ]
  },
  {
   "cell_type": "code",
   "execution_count": 13,
   "metadata": {},
   "outputs": [
    {
     "name": "stdout",
     "output_type": "stream",
     "text": [
      "Enter a string you want to reverse: Usama Amin\n",
      "Reversed String :  nimA amasU\n"
     ]
    }
   ],
   "source": [
    "class ReverseStrings():\n",
    "    \n",
    "    def get_String(self):\n",
    "        myStr = str(input(\"Enter a string you want to reverse: \"))\n",
    "        self.userString = myStr\n",
    "        \n",
    "    def reverse_String(self):\n",
    "        revers_str = self.userString[::-1]\n",
    "        print(\"Reversed String : \",revers_str)\n",
    "        \n",
    " \n",
    "obj = ReverseStrings()\n",
    "obj.get_String()\n",
    "obj.reverse_String()\n",
    "    "
   ]
  },
  {
   "cell_type": "code",
   "execution_count": null,
   "metadata": {},
   "outputs": [],
   "source": []
  }
 ],
 "metadata": {
  "kernelspec": {
   "display_name": "Python 3",
   "language": "python",
   "name": "python3"
  },
  "language_info": {
   "codemirror_mode": {
    "name": "ipython",
    "version": 3
   },
   "file_extension": ".py",
   "mimetype": "text/x-python",
   "name": "python",
   "nbconvert_exporter": "python",
   "pygments_lexer": "ipython3",
   "version": "3.7.4"
  }
 },
 "nbformat": 4,
 "nbformat_minor": 2
}
