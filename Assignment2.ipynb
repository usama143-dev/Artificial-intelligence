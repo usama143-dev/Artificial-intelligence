{
 "cells": [
  {
   "cell_type": "code",
   "execution_count": 1,
   "metadata": {},
   "outputs": [
    {
     "name": "stdout",
     "output_type": "stream",
     "text": [
      "Enter radius:6\n",
      "Radius is:226.08\n"
     ]
    }
   ],
   "source": [
    "r = input(\"Enter radius:\")\n",
    "ans = 2*3.14*int(r)**2\n",
    "print(\"Area is:\"+(str(ans)))"
   ]
  },
  {
   "cell_type": "code",
   "execution_count": 2,
   "metadata": {},
   "outputs": [
    {
     "name": "stdout",
     "output_type": "stream",
     "text": [
      "1.Add city in List\n",
      "2.Delete city in List\n",
      "3.View city in List\n",
      "4.Exit\n",
      "Choose option:1\n",
      "\n",
      "\n",
      "Enter city name to add: burewala\n",
      "city added\n",
      "\n",
      " ********************************* \n",
      "\n",
      "1.Add city in List\n",
      "2.Delete city in List\n",
      "3.View city in List\n",
      "4.Exit\n",
      "Choose option:1\n",
      "\n",
      "\n",
      "Enter city name to add: faisalabad\n",
      "city added\n",
      "\n",
      " ********************************* \n",
      "\n",
      "1.Add city in List\n",
      "2.Delete city in List\n",
      "3.View city in List\n",
      "4.Exit\n",
      "Choose option:3\n",
      "\n",
      " All cities in list\n",
      "\n",
      "burewala\n",
      "faisalabad\n",
      "\n",
      " ********************************* \n",
      "\n",
      "1.Add city in List\n",
      "2.Delete city in List\n",
      "3.View city in List\n",
      "4.Exit\n",
      "Choose option:2\n",
      "Enter the city name you want to delete: burewala\n",
      "city deleted\n",
      "\n",
      " ********************************* \n",
      "\n",
      "1.Add city in List\n",
      "2.Delete city in List\n",
      "3.View city in List\n",
      "4.Exit\n",
      "Choose option:3\n",
      "\n",
      " All cities in list\n",
      "\n",
      "faisalabad\n",
      "\n",
      " ********************************* \n",
      "\n",
      "1.Add city in List\n",
      "2.Delete city in List\n",
      "3.View city in List\n",
      "4.Exit\n",
      "Choose option:4\n",
      "Exit program\n"
     ]
    }
   ],
   "source": [
    "def add_item(cities_list,value):\n",
    "    cities_list.append(value)\n",
    "    print(\"city added\")\n",
    "\n",
    "def delete_item(cities_list,city):\n",
    "    if city in cities_list:\n",
    "        cities_list.remove(city)\n",
    "        print(\"city deleted\")\n",
    "    else:    \n",
    "        print(\"city not in our list\")\n",
    "\n",
    "def view_items(cities_list):\n",
    "    print(\"\\n All cities in list\\n\")\n",
    "    for city in cities_list: \n",
    "        print (city)\n",
    "    \n",
    "    \n",
    "cities_list = []\n",
    "while True:\n",
    "    print(\"1.Add city in List\")\n",
    "    print(\"2.Delete city in List\")\n",
    "    print(\"3.View city in List\")\n",
    "    print(\"4.Exit\")\n",
    "    x = input(\"Choose option:\")\n",
    "    if(int(x)==1):\n",
    "        print(\"\\n\")\n",
    "        v = input(\"Enter city name to add: \")\n",
    "        add_item(cities_list,v)\n",
    "    elif(int(x)==2):\n",
    "        k = input(\"Enter the city name you want to delete: \")\n",
    "        delete_item(cities_list,k)\n",
    "    elif(int(x)==3):\n",
    "        view_items(cities_list)\n",
    "    elif(int(x)==4):\n",
    "        print(\"Exit program\")\n",
    "        break\n",
    "    else:\n",
    "        print(\"Enter invalid option\")\n",
    "        break\n",
    "    print(\"\\n\",\"*********************************\",\"\\n\")"
   ]
  },
  {
   "cell_type": "code",
   "execution_count": null,
   "metadata": {},
   "outputs": [],
   "source": []
  }
 ],
 "metadata": {
  "kernelspec": {
   "display_name": "Python 3",
   "language": "python",
   "name": "python3"
  },
  "language_info": {
   "codemirror_mode": {
    "name": "ipython",
    "version": 3
   },
   "file_extension": ".py",
   "mimetype": "text/x-python",
   "name": "python",
   "nbconvert_exporter": "python",
   "pygments_lexer": "ipython3",
   "version": "3.7.4"
  }
 },
 "nbformat": 4,
 "nbformat_minor": 2
}
